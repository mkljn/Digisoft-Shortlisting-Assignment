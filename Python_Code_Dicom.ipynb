{
 "cells": [
  {
   "cell_type": "code",
   "execution_count": 9,
   "metadata": {},
   "outputs": [],
   "source": [
    "import pydicom #Library to read and write Dicom Files in Python"
   ]
  },
  {
   "cell_type": "code",
   "execution_count": 15,
   "metadata": {},
   "outputs": [],
   "source": [
    "data = pydicom.read_file(\"ttfm.dcm\") #Reading 'ttfm.dcm' as data\n",
    "data2 = pydicom.read_file(\"bmode.dcm\") #Reading 'bmode.dcm' as data2"
   ]
  },
  {
   "cell_type": "code",
   "execution_count": 21,
   "metadata": {},
   "outputs": [],
   "source": [
    "#This will iterate through all the Dicom Tags in the ttfm.dcm file and print the tag with value (Key, Value) and saves the output in a text file\n",
    "for key in data.dir():\n",
    "    value = getattr(data, key, '')\n",
    "    if type(value) is pydicom.uid.UID or key == \"PixelData\":\n",
    "        continue\n",
    "    #print (\"%s: %s\" %(key, value))\n",
    "    f = open('data.txt','a')\n",
    "    f.write('\\n' + \"%s: %s\" %(key, value))\n",
    "    f.close()"
   ]
  },
  {
   "cell_type": "code",
   "execution_count": 22,
   "metadata": {},
   "outputs": [],
   "source": [
    "#This will iterate through all the Dicom Tags in the bmode.dcm file and print the tag with value (Key, Value) and saves the output in a text file\n",
    "for key in data2.dir():\n",
    "    value = getattr(data2, key, '')\n",
    "    if type(value) is pydicom.uid.UID or key == \"PixelData\":\n",
    "        continue\n",
    "    #print (\"%s: %s\" %(key, value))\n",
    "    f = open('data2.txt','a')\n",
    "    f.write('\\n' + \"%s: %s\" %(key, value))\n",
    "    f.close()"
   ]
  },
  {
   "cell_type": "code",
   "execution_count": 18,
   "metadata": {},
   "outputs": [
    {
     "data": {
      "text/plain": [
       "['AccessionNumber',\n",
       " 'BitsAllocated',\n",
       " 'BitsStored',\n",
       " 'CineRate',\n",
       " 'Columns',\n",
       " 'ContentDate',\n",
       " 'ContentTime',\n",
       " 'DeviceSerialNumber',\n",
       " 'EffectiveDuration',\n",
       " 'FrameIncrementPointer',\n",
       " 'FrameTime',\n",
       " 'HighBit',\n",
       " 'ImageComments',\n",
       " 'ImageType',\n",
       " 'InstanceNumber',\n",
       " 'InstitutionAddress',\n",
       " 'InstitutionName',\n",
       " 'Laterality',\n",
       " 'LossyImageCompression',\n",
       " 'Manufacturer',\n",
       " 'ManufacturerModelName',\n",
       " 'Modality',\n",
       " 'NumberOfFrames',\n",
       " 'PatientBirthDate',\n",
       " 'PatientComments',\n",
       " 'PatientID',\n",
       " 'PatientName',\n",
       " 'PatientOrientation',\n",
       " 'PatientSex',\n",
       " 'PatientSize',\n",
       " 'PatientWeight',\n",
       " 'PerformingPhysicianName',\n",
       " 'PhotometricInterpretation',\n",
       " 'PixelData',\n",
       " 'PixelRepresentation',\n",
       " 'PlanarConfiguration',\n",
       " 'PreferredPlaybackSequencing',\n",
       " 'RecommendedDisplayFrameRate',\n",
       " 'ReferringPhysicianName',\n",
       " 'Rows',\n",
       " 'SOPClassUID',\n",
       " 'SOPInstanceUID',\n",
       " 'SamplesPerPixel',\n",
       " 'SequenceOfUltrasoundRegions',\n",
       " 'SeriesDate',\n",
       " 'SeriesInstanceUID',\n",
       " 'SeriesNumber',\n",
       " 'SeriesTime',\n",
       " 'SoftwareVersions',\n",
       " 'SpecificCharacterSet',\n",
       " 'StationName',\n",
       " 'StudyDate',\n",
       " 'StudyDescription',\n",
       " 'StudyID',\n",
       " 'StudyInstanceUID',\n",
       " 'StudyTime']"
      ]
     },
     "execution_count": 18,
     "metadata": {},
     "output_type": "execute_result"
    }
   ],
   "source": [
    "data.dir()"
   ]
  },
  {
   "cell_type": "code",
   "execution_count": 19,
   "metadata": {},
   "outputs": [
    {
     "data": {
      "text/plain": [
       "['AccessionNumber',\n",
       " 'BitsAllocated',\n",
       " 'BitsStored',\n",
       " 'CineRate',\n",
       " 'Columns',\n",
       " 'ContentDate',\n",
       " 'ContentTime',\n",
       " 'DeviceSerialNumber',\n",
       " 'EffectiveDuration',\n",
       " 'FrameIncrementPointer',\n",
       " 'FrameTime',\n",
       " 'HighBit',\n",
       " 'ImageComments',\n",
       " 'ImageType',\n",
       " 'InstanceNumber',\n",
       " 'InstitutionAddress',\n",
       " 'InstitutionName',\n",
       " 'Laterality',\n",
       " 'LossyImageCompression',\n",
       " 'Manufacturer',\n",
       " 'ManufacturerModelName',\n",
       " 'Modality',\n",
       " 'NumberOfFrames',\n",
       " 'PatientBirthDate',\n",
       " 'PatientComments',\n",
       " 'PatientID',\n",
       " 'PatientName',\n",
       " 'PatientOrientation',\n",
       " 'PatientSex',\n",
       " 'PatientSize',\n",
       " 'PatientWeight',\n",
       " 'PerformingPhysicianName',\n",
       " 'PhotometricInterpretation',\n",
       " 'PixelData',\n",
       " 'PixelRepresentation',\n",
       " 'PlanarConfiguration',\n",
       " 'PreferredPlaybackSequencing',\n",
       " 'RecommendedDisplayFrameRate',\n",
       " 'ReferringPhysicianName',\n",
       " 'Rows',\n",
       " 'SOPClassUID',\n",
       " 'SOPInstanceUID',\n",
       " 'SamplesPerPixel',\n",
       " 'SequenceOfUltrasoundRegions',\n",
       " 'SeriesDate',\n",
       " 'SeriesInstanceUID',\n",
       " 'SeriesNumber',\n",
       " 'SeriesTime',\n",
       " 'SoftwareVersions',\n",
       " 'SpecificCharacterSet',\n",
       " 'StationName',\n",
       " 'StudyDate',\n",
       " 'StudyDescription',\n",
       " 'StudyID',\n",
       " 'StudyInstanceUID',\n",
       " 'StudyTime']"
      ]
     },
     "execution_count": 19,
     "metadata": {},
     "output_type": "execute_result"
    }
   ],
   "source": [
    "data2.dir()"
   ]
  },
  {
   "cell_type": "code",
   "execution_count": null,
   "metadata": {},
   "outputs": [],
   "source": []
  }
 ],
 "metadata": {
  "kernelspec": {
   "display_name": "Python 3",
   "language": "python",
   "name": "python3"
  },
  "language_info": {
   "codemirror_mode": {
    "name": "ipython",
    "version": 3
   },
   "file_extension": ".py",
   "mimetype": "text/x-python",
   "name": "python",
   "nbconvert_exporter": "python",
   "pygments_lexer": "ipython3",
   "version": "3.6.5"
  }
 },
 "nbformat": 4,
 "nbformat_minor": 2
}
